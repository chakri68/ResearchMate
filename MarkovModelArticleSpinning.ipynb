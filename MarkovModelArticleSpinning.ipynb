{
  "nbformat": 4,
  "nbformat_minor": 0,
  "metadata": {
    "colab": {
      "provenance": []
    },
    "kernelspec": {
      "name": "python3",
      "display_name": "Python 3"
    },
    "language_info": {
      "name": "python"
    }
  },
  "cells": [
    {
      "cell_type": "markdown",
      "source": [
        "# Article Spinning with Markov Model"
      ],
      "metadata": {
        "id": "cs42PFTLBxlK"
      }
    },
    {
      "cell_type": "markdown",
      "source": [
        "##Importing the Libraries"
      ],
      "metadata": {
        "id": "-wI0t_Q0B1A-"
      }
    },
    {
      "cell_type": "markdown",
      "source": [
        "In this case, we will also be importing some new libraries :\n",
        "\n",
        "* `textwrap` : The **TextWrap** module in Python is an in-built module. This module provides functions for wrapping, filling, and formatting plain text\n",
        "\n",
        "* `TreeBankWordDetokinzer` : Detokenize List of Tokens back into a single string"
      ],
      "metadata": {
        "id": "mb8wyqpqCGi1"
      }
    },
    {
      "cell_type": "code",
      "execution_count": null,
      "metadata": {
        "id": "uR1rggslBOYO"
      },
      "outputs": [],
      "source": [
        "import numpy as np\n",
        "import pandas as pd\n",
        "import textwrap\n",
        "import nltk\n",
        "from nltk import word_tokenize\n",
        "from nltk.tokenize.treebank import TreebankWordDetokenizer"
      ]
    },
    {
      "cell_type": "code",
      "source": [
        "nltk.download('punkt')"
      ],
      "metadata": {
        "colab": {
          "base_uri": "https://localhost:8080/"
        },
        "id": "mqW9zm2lC-YU",
        "outputId": "3e0712be-44ee-4786-fed6-56a0d7e91e88"
      },
      "execution_count": null,
      "outputs": [
        {
          "output_type": "stream",
          "name": "stderr",
          "text": [
            "[nltk_data] Downloading package punkt to /root/nltk_data...\n",
            "[nltk_data]   Unzipping tokenizers/punkt.zip.\n"
          ]
        },
        {
          "output_type": "execute_result",
          "data": {
            "text/plain": [
              "True"
            ]
          },
          "metadata": {},
          "execution_count": 2
        }
      ]
    },
    {
      "cell_type": "markdown",
      "source": [
        "##Importing Data and PreProcessing"
      ],
      "metadata": {
        "id": "ojDG7Lx5KWSd"
      }
    },
    {
      "cell_type": "code",
      "source": [
        "!wget -nc https://lazyprogrammer.me/course_files/nlp/bbc_text_cls.csv"
      ],
      "metadata": {
        "colab": {
          "base_uri": "https://localhost:8080/"
        },
        "id": "SNRaSQk4Kfia",
        "outputId": "bbf24967-3f61-4ac0-e98a-192fcd9aca09"
      },
      "execution_count": null,
      "outputs": [
        {
          "output_type": "stream",
          "name": "stdout",
          "text": [
            "--2023-12-04 13:50:42--  https://lazyprogrammer.me/course_files/nlp/bbc_text_cls.csv\n",
            "Resolving lazyprogrammer.me (lazyprogrammer.me)... 104.21.23.210, 172.67.213.166, 2606:4700:3031::6815:17d2, ...\n",
            "Connecting to lazyprogrammer.me (lazyprogrammer.me)|104.21.23.210|:443... connected.\n",
            "HTTP request sent, awaiting response... 200 OK\n",
            "Length: 5085081 (4.8M) [text/csv]\n",
            "Saving to: ‘bbc_text_cls.csv’\n",
            "\n",
            "bbc_text_cls.csv    100%[===================>]   4.85M  11.8MB/s    in 0.4s    \n",
            "\n",
            "2023-12-04 13:50:43 (11.8 MB/s) - ‘bbc_text_cls.csv’ saved [5085081/5085081]\n",
            "\n"
          ]
        }
      ]
    },
    {
      "cell_type": "code",
      "source": [
        "df = pd.read_csv('bbc_text_cls.csv')\n",
        "df.head()"
      ],
      "metadata": {
        "colab": {
          "base_uri": "https://localhost:8080/",
          "height": 206
        },
        "id": "tgNLmw1AKVfP",
        "outputId": "295ffba4-1b9f-4dda-9f83-d73aef7de6f9"
      },
      "execution_count": null,
      "outputs": [
        {
          "output_type": "execute_result",
          "data": {
            "text/plain": [
              "                                                text    labels\n",
              "0  Ad sales boost Time Warner profit\\n\\nQuarterly...  business\n",
              "1  Dollar gains on Greenspan speech\\n\\nThe dollar...  business\n",
              "2  Yukos unit buyer faces loan claim\\n\\nThe owner...  business\n",
              "3  High fuel prices hit BA's profits\\n\\nBritish A...  business\n",
              "4  Pernod takeover talk lifts Domecq\\n\\nShares in...  business"
            ],
            "text/html": [
              "\n",
              "  <div id=\"df-3df35578-6a6c-485b-a34c-07199da559d7\" class=\"colab-df-container\">\n",
              "    <div>\n",
              "<style scoped>\n",
              "    .dataframe tbody tr th:only-of-type {\n",
              "        vertical-align: middle;\n",
              "    }\n",
              "\n",
              "    .dataframe tbody tr th {\n",
              "        vertical-align: top;\n",
              "    }\n",
              "\n",
              "    .dataframe thead th {\n",
              "        text-align: right;\n",
              "    }\n",
              "</style>\n",
              "<table border=\"1\" class=\"dataframe\">\n",
              "  <thead>\n",
              "    <tr style=\"text-align: right;\">\n",
              "      <th></th>\n",
              "      <th>text</th>\n",
              "      <th>labels</th>\n",
              "    </tr>\n",
              "  </thead>\n",
              "  <tbody>\n",
              "    <tr>\n",
              "      <th>0</th>\n",
              "      <td>Ad sales boost Time Warner profit\\n\\nQuarterly...</td>\n",
              "      <td>business</td>\n",
              "    </tr>\n",
              "    <tr>\n",
              "      <th>1</th>\n",
              "      <td>Dollar gains on Greenspan speech\\n\\nThe dollar...</td>\n",
              "      <td>business</td>\n",
              "    </tr>\n",
              "    <tr>\n",
              "      <th>2</th>\n",
              "      <td>Yukos unit buyer faces loan claim\\n\\nThe owner...</td>\n",
              "      <td>business</td>\n",
              "    </tr>\n",
              "    <tr>\n",
              "      <th>3</th>\n",
              "      <td>High fuel prices hit BA's profits\\n\\nBritish A...</td>\n",
              "      <td>business</td>\n",
              "    </tr>\n",
              "    <tr>\n",
              "      <th>4</th>\n",
              "      <td>Pernod takeover talk lifts Domecq\\n\\nShares in...</td>\n",
              "      <td>business</td>\n",
              "    </tr>\n",
              "  </tbody>\n",
              "</table>\n",
              "</div>\n",
              "    <div class=\"colab-df-buttons\">\n",
              "\n",
              "  <div class=\"colab-df-container\">\n",
              "    <button class=\"colab-df-convert\" onclick=\"convertToInteractive('df-3df35578-6a6c-485b-a34c-07199da559d7')\"\n",
              "            title=\"Convert this dataframe to an interactive table.\"\n",
              "            style=\"display:none;\">\n",
              "\n",
              "  <svg xmlns=\"http://www.w3.org/2000/svg\" height=\"24px\" viewBox=\"0 -960 960 960\">\n",
              "    <path d=\"M120-120v-720h720v720H120Zm60-500h600v-160H180v160Zm220 220h160v-160H400v160Zm0 220h160v-160H400v160ZM180-400h160v-160H180v160Zm440 0h160v-160H620v160ZM180-180h160v-160H180v160Zm440 0h160v-160H620v160Z\"/>\n",
              "  </svg>\n",
              "    </button>\n",
              "\n",
              "  <style>\n",
              "    .colab-df-container {\n",
              "      display:flex;\n",
              "      gap: 12px;\n",
              "    }\n",
              "\n",
              "    .colab-df-convert {\n",
              "      background-color: #E8F0FE;\n",
              "      border: none;\n",
              "      border-radius: 50%;\n",
              "      cursor: pointer;\n",
              "      display: none;\n",
              "      fill: #1967D2;\n",
              "      height: 32px;\n",
              "      padding: 0 0 0 0;\n",
              "      width: 32px;\n",
              "    }\n",
              "\n",
              "    .colab-df-convert:hover {\n",
              "      background-color: #E2EBFA;\n",
              "      box-shadow: 0px 1px 2px rgba(60, 64, 67, 0.3), 0px 1px 3px 1px rgba(60, 64, 67, 0.15);\n",
              "      fill: #174EA6;\n",
              "    }\n",
              "\n",
              "    .colab-df-buttons div {\n",
              "      margin-bottom: 4px;\n",
              "    }\n",
              "\n",
              "    [theme=dark] .colab-df-convert {\n",
              "      background-color: #3B4455;\n",
              "      fill: #D2E3FC;\n",
              "    }\n",
              "\n",
              "    [theme=dark] .colab-df-convert:hover {\n",
              "      background-color: #434B5C;\n",
              "      box-shadow: 0px 1px 3px 1px rgba(0, 0, 0, 0.15);\n",
              "      filter: drop-shadow(0px 1px 2px rgba(0, 0, 0, 0.3));\n",
              "      fill: #FFFFFF;\n",
              "    }\n",
              "  </style>\n",
              "\n",
              "    <script>\n",
              "      const buttonEl =\n",
              "        document.querySelector('#df-3df35578-6a6c-485b-a34c-07199da559d7 button.colab-df-convert');\n",
              "      buttonEl.style.display =\n",
              "        google.colab.kernel.accessAllowed ? 'block' : 'none';\n",
              "\n",
              "      async function convertToInteractive(key) {\n",
              "        const element = document.querySelector('#df-3df35578-6a6c-485b-a34c-07199da559d7');\n",
              "        const dataTable =\n",
              "          await google.colab.kernel.invokeFunction('convertToInteractive',\n",
              "                                                    [key], {});\n",
              "        if (!dataTable) return;\n",
              "\n",
              "        const docLinkHtml = 'Like what you see? Visit the ' +\n",
              "          '<a target=\"_blank\" href=https://colab.research.google.com/notebooks/data_table.ipynb>data table notebook</a>'\n",
              "          + ' to learn more about interactive tables.';\n",
              "        element.innerHTML = '';\n",
              "        dataTable['output_type'] = 'display_data';\n",
              "        await google.colab.output.renderOutput(dataTable, element);\n",
              "        const docLink = document.createElement('div');\n",
              "        docLink.innerHTML = docLinkHtml;\n",
              "        element.appendChild(docLink);\n",
              "      }\n",
              "    </script>\n",
              "  </div>\n",
              "\n",
              "\n",
              "<div id=\"df-e9230430-ce39-4a78-8aec-7bc88c070cde\">\n",
              "  <button class=\"colab-df-quickchart\" onclick=\"quickchart('df-e9230430-ce39-4a78-8aec-7bc88c070cde')\"\n",
              "            title=\"Suggest charts\"\n",
              "            style=\"display:none;\">\n",
              "\n",
              "<svg xmlns=\"http://www.w3.org/2000/svg\" height=\"24px\"viewBox=\"0 0 24 24\"\n",
              "     width=\"24px\">\n",
              "    <g>\n",
              "        <path d=\"M19 3H5c-1.1 0-2 .9-2 2v14c0 1.1.9 2 2 2h14c1.1 0 2-.9 2-2V5c0-1.1-.9-2-2-2zM9 17H7v-7h2v7zm4 0h-2V7h2v10zm4 0h-2v-4h2v4z\"/>\n",
              "    </g>\n",
              "</svg>\n",
              "  </button>\n",
              "\n",
              "<style>\n",
              "  .colab-df-quickchart {\n",
              "      --bg-color: #E8F0FE;\n",
              "      --fill-color: #1967D2;\n",
              "      --hover-bg-color: #E2EBFA;\n",
              "      --hover-fill-color: #174EA6;\n",
              "      --disabled-fill-color: #AAA;\n",
              "      --disabled-bg-color: #DDD;\n",
              "  }\n",
              "\n",
              "  [theme=dark] .colab-df-quickchart {\n",
              "      --bg-color: #3B4455;\n",
              "      --fill-color: #D2E3FC;\n",
              "      --hover-bg-color: #434B5C;\n",
              "      --hover-fill-color: #FFFFFF;\n",
              "      --disabled-bg-color: #3B4455;\n",
              "      --disabled-fill-color: #666;\n",
              "  }\n",
              "\n",
              "  .colab-df-quickchart {\n",
              "    background-color: var(--bg-color);\n",
              "    border: none;\n",
              "    border-radius: 50%;\n",
              "    cursor: pointer;\n",
              "    display: none;\n",
              "    fill: var(--fill-color);\n",
              "    height: 32px;\n",
              "    padding: 0;\n",
              "    width: 32px;\n",
              "  }\n",
              "\n",
              "  .colab-df-quickchart:hover {\n",
              "    background-color: var(--hover-bg-color);\n",
              "    box-shadow: 0 1px 2px rgba(60, 64, 67, 0.3), 0 1px 3px 1px rgba(60, 64, 67, 0.15);\n",
              "    fill: var(--button-hover-fill-color);\n",
              "  }\n",
              "\n",
              "  .colab-df-quickchart-complete:disabled,\n",
              "  .colab-df-quickchart-complete:disabled:hover {\n",
              "    background-color: var(--disabled-bg-color);\n",
              "    fill: var(--disabled-fill-color);\n",
              "    box-shadow: none;\n",
              "  }\n",
              "\n",
              "  .colab-df-spinner {\n",
              "    border: 2px solid var(--fill-color);\n",
              "    border-color: transparent;\n",
              "    border-bottom-color: var(--fill-color);\n",
              "    animation:\n",
              "      spin 1s steps(1) infinite;\n",
              "  }\n",
              "\n",
              "  @keyframes spin {\n",
              "    0% {\n",
              "      border-color: transparent;\n",
              "      border-bottom-color: var(--fill-color);\n",
              "      border-left-color: var(--fill-color);\n",
              "    }\n",
              "    20% {\n",
              "      border-color: transparent;\n",
              "      border-left-color: var(--fill-color);\n",
              "      border-top-color: var(--fill-color);\n",
              "    }\n",
              "    30% {\n",
              "      border-color: transparent;\n",
              "      border-left-color: var(--fill-color);\n",
              "      border-top-color: var(--fill-color);\n",
              "      border-right-color: var(--fill-color);\n",
              "    }\n",
              "    40% {\n",
              "      border-color: transparent;\n",
              "      border-right-color: var(--fill-color);\n",
              "      border-top-color: var(--fill-color);\n",
              "    }\n",
              "    60% {\n",
              "      border-color: transparent;\n",
              "      border-right-color: var(--fill-color);\n",
              "    }\n",
              "    80% {\n",
              "      border-color: transparent;\n",
              "      border-right-color: var(--fill-color);\n",
              "      border-bottom-color: var(--fill-color);\n",
              "    }\n",
              "    90% {\n",
              "      border-color: transparent;\n",
              "      border-bottom-color: var(--fill-color);\n",
              "    }\n",
              "  }\n",
              "</style>\n",
              "\n",
              "  <script>\n",
              "    async function quickchart(key) {\n",
              "      const quickchartButtonEl =\n",
              "        document.querySelector('#' + key + ' button');\n",
              "      quickchartButtonEl.disabled = true;  // To prevent multiple clicks.\n",
              "      quickchartButtonEl.classList.add('colab-df-spinner');\n",
              "      try {\n",
              "        const charts = await google.colab.kernel.invokeFunction(\n",
              "            'suggestCharts', [key], {});\n",
              "      } catch (error) {\n",
              "        console.error('Error during call to suggestCharts:', error);\n",
              "      }\n",
              "      quickchartButtonEl.classList.remove('colab-df-spinner');\n",
              "      quickchartButtonEl.classList.add('colab-df-quickchart-complete');\n",
              "    }\n",
              "    (() => {\n",
              "      let quickchartButtonEl =\n",
              "        document.querySelector('#df-e9230430-ce39-4a78-8aec-7bc88c070cde button');\n",
              "      quickchartButtonEl.style.display =\n",
              "        google.colab.kernel.accessAllowed ? 'block' : 'none';\n",
              "    })();\n",
              "  </script>\n",
              "</div>\n",
              "    </div>\n",
              "  </div>\n"
            ]
          },
          "metadata": {},
          "execution_count": 4
        }
      ]
    },
    {
      "cell_type": "code",
      "source": [
        "labels = set(df['labels'])\n",
        "labels"
      ],
      "metadata": {
        "colab": {
          "base_uri": "https://localhost:8080/"
        },
        "id": "tSdiSXzCKqdJ",
        "outputId": "ce99fd75-26f3-447f-87c5-556e03e25fc8"
      },
      "execution_count": null,
      "outputs": [
        {
          "output_type": "execute_result",
          "data": {
            "text/plain": [
              "{'business', 'entertainment', 'politics', 'sport', 'tech'}"
            ]
          },
          "metadata": {},
          "execution_count": 5
        }
      ]
    },
    {
      "cell_type": "markdown",
      "source": [
        "Lets say we are working with Business Articles"
      ],
      "metadata": {
        "id": "vNH7qu9GLaZW"
      }
    },
    {
      "cell_type": "code",
      "source": [
        "label = 'business'\n",
        "texts = df[df['labels'] == label]['text']\n",
        "texts.head()"
      ],
      "metadata": {
        "colab": {
          "base_uri": "https://localhost:8080/"
        },
        "id": "UEujD7c8LaBw",
        "outputId": "cca345ff-63b3-4030-b2c3-aaa92ce46c3b"
      },
      "execution_count": null,
      "outputs": [
        {
          "output_type": "execute_result",
          "data": {
            "text/plain": [
              "0    Ad sales boost Time Warner profit\\n\\nQuarterly...\n",
              "1    Dollar gains on Greenspan speech\\n\\nThe dollar...\n",
              "2    Yukos unit buyer faces loan claim\\n\\nThe owner...\n",
              "3    High fuel prices hit BA's profits\\n\\nBritish A...\n",
              "4    Pernod takeover talk lifts Domecq\\n\\nShares in...\n",
              "Name: text, dtype: object"
            ]
          },
          "metadata": {},
          "execution_count": 6
        }
      ]
    },
    {
      "cell_type": "markdown",
      "source": [
        "###KKK"
      ],
      "metadata": {
        "id": "uPDmuDz0L_up"
      }
    },
    {
      "cell_type": "markdown",
      "source": [
        "Func"
      ],
      "metadata": {
        "id": "ZmuwAdDTb99z"
      }
    },
    {
      "cell_type": "code",
      "source": [
        "probs = {}\n",
        "\n",
        "for doc in texts:\n",
        "  lines = doc.split(\"\\n\")\n",
        "  for line in lines:\n",
        "    tokens = word_tokenize(line)\n",
        "    for i in range(len(tokens) - 2):\n",
        "      t0 = tokens[i]\n",
        "      t1 = tokens[i+1]\n",
        "      t2 = tokens[i+2]\n",
        "      key = (t0, t2)\n",
        "\n",
        "      if key not in probs:\n",
        "        probs[key] = {}\n",
        "\n",
        "      if t1 not in probs[key]:\n",
        "        probs[key][t1] = 1\n",
        "      else:\n",
        "        probs[key][t1] += 1"
      ],
      "metadata": {
        "id": "iALCl8uOL0xn"
      },
      "execution_count": null,
      "outputs": []
    },
    {
      "cell_type": "code",
      "source": [
        "for key, d in probs.items():\n",
        "  total = sum(d.values())\n",
        "  for k, v in d.items():\n",
        "    d[k] = v / total"
      ],
      "metadata": {
        "id": "lKsLOPTYes6Q"
      },
      "execution_count": null,
      "outputs": []
    },
    {
      "cell_type": "code",
      "source": [
        "probs[('US', 'giant')]"
      ],
      "metadata": {
        "colab": {
          "base_uri": "https://localhost:8080/"
        },
        "id": "hP_AaGlBgKXp",
        "outputId": "0277faa0-4bdb-46f1-9e67-507a8806f1bc"
      },
      "execution_count": null,
      "outputs": [
        {
          "output_type": "execute_result",
          "data": {
            "text/plain": [
              "{'media': 0.1,\n",
              " 'telecoms': 0.1,\n",
              " 'banking': 0.2,\n",
              " 'foods': 0.1,\n",
              " 'retail': 0.1,\n",
              " 'oil': 0.2,\n",
              " 'mortgage': 0.1,\n",
              " 'agrochemical': 0.1}"
            ]
          },
          "metadata": {},
          "execution_count": 9
        }
      ]
    },
    {
      "cell_type": "code",
      "source": [
        "texts.iloc[0].split(\"\\n\")"
      ],
      "metadata": {
        "colab": {
          "base_uri": "https://localhost:8080/"
        },
        "id": "2HWIhYDAfNeb",
        "outputId": "71762063-df16-48f3-f5a2-53f02ef6da7f"
      },
      "execution_count": null,
      "outputs": [
        {
          "output_type": "execute_result",
          "data": {
            "text/plain": [
              "['Ad sales boost Time Warner profit',\n",
              " '',\n",
              " 'Quarterly profits at US media giant TimeWarner jumped 76% to $1.13bn (£600m) for the three months to December, from $639m year-earlier.',\n",
              " '',\n",
              " 'The firm, which is now one of the biggest investors in Google, benefited from sales of high-speed internet connections and higher advert sales. TimeWarner said fourth quarter sales rose 2% to $11.1bn from $10.9bn. Its profits were buoyed by one-off gains which offset a profit dip at Warner Bros, and less users for AOL.',\n",
              " '',\n",
              " \"Time Warner said on Friday that it now owns 8% of search-engine Google. But its own internet business, AOL, had has mixed fortunes. It lost 464,000 subscribers in the fourth quarter profits were lower than in the preceding three quarters. However, the company said AOL's underlying profit before exceptional items rose 8% on the back of stronger internet advertising revenues. It hopes to increase subscribers by offering the online service free to TimeWarner internet customers and will try to sign up AOL's existing customers for high-speed broadband. TimeWarner also has to restate 2000 and 2003 results following a probe by the US Securities Exchange Commission (SEC), which is close to concluding.\",\n",
              " '',\n",
              " 'Time Warner\\'s fourth quarter profits were slightly better than analysts\\' expectations. But its film division saw profits slump 27% to $284m, helped by box-office flops Alexander and Catwoman, a sharp contrast to year-earlier, when the third and final film in the Lord of the Rings trilogy boosted results. For the full-year, TimeWarner posted a profit of $3.36bn, up 27% from its 2003 performance, while revenues grew 6.4% to $42.09bn. \"Our financial performance was strong, meeting or exceeding all of our full-year objectives and greatly enhancing our flexibility,\" chairman and chief executive Richard Parsons said. For 2005, TimeWarner is projecting operating earnings growth of around 5%, and also expects higher revenue and wider profit margins.',\n",
              " '',\n",
              " \"TimeWarner is to restate its accounts as part of efforts to resolve an inquiry into AOL by US market regulators. It has already offered to pay $300m to settle charges, in a deal that is under review by the SEC. The company said it was unable to estimate the amount it needed to set aside for legal reserves, which it previously set at $500m. It intends to adjust the way it accounts for a deal with German music publisher Bertelsmann's purchase of a stake in AOL Europe, which it had reported as advertising revenue. It will now book the sale of its stake in AOL Europe as a loss on the value of that stake.\"]"
            ]
          },
          "metadata": {},
          "execution_count": 10
        }
      ]
    },
    {
      "cell_type": "markdown",
      "source": [
        "### Using DeTokeniser"
      ],
      "metadata": {
        "id": "oTd0p4uAhrWt"
      }
    },
    {
      "cell_type": "code",
      "source": [
        "detokenizer = TreebankWordDetokenizer()"
      ],
      "metadata": {
        "id": "m5DlxkSChWdf"
      },
      "execution_count": null,
      "outputs": []
    },
    {
      "cell_type": "code",
      "source": [
        "texts.iloc[0].split(\"\\n\")[2]"
      ],
      "metadata": {
        "colab": {
          "base_uri": "https://localhost:8080/",
          "height": 36
        },
        "id": "IjDrXBZChulh",
        "outputId": "0761e4de-25a6-48c1-df6b-4e7746157581"
      },
      "execution_count": null,
      "outputs": [
        {
          "output_type": "execute_result",
          "data": {
            "text/plain": [
              "'Quarterly profits at US media giant TimeWarner jumped 76% to $1.13bn (£600m) for the three months to December, from $639m year-earlier.'"
            ],
            "application/vnd.google.colaboratory.intrinsic+json": {
              "type": "string"
            }
          },
          "metadata": {},
          "execution_count": 12
        }
      ]
    },
    {
      "cell_type": "code",
      "source": [
        "detokenizer.detokenize(word_tokenize(texts.iloc[0].split(\"\\n\")[2]))"
      ],
      "metadata": {
        "colab": {
          "base_uri": "https://localhost:8080/",
          "height": 36
        },
        "id": "HClWoADzhvQk",
        "outputId": "67d9973e-87bf-47ca-9fd9-ce80b324b1b0"
      },
      "execution_count": null,
      "outputs": [
        {
          "output_type": "execute_result",
          "data": {
            "text/plain": [
              "'Quarterly profits at US media giant TimeWarner jumped 76% to $1.13bn (£600m) for the three months to December, from $639m year-earlier.'"
            ],
            "application/vnd.google.colaboratory.intrinsic+json": {
              "type": "string"
            }
          },
          "metadata": {},
          "execution_count": 13
        }
      ]
    },
    {
      "cell_type": "code",
      "source": [
        "print((texts.iloc[0].split(\"\\n\")[2]) == (detokenizer.detokenize(word_tokenize(texts.iloc[0].split(\"\\n\")[2]))))"
      ],
      "metadata": {
        "colab": {
          "base_uri": "https://localhost:8080/"
        },
        "id": "Ci6DxvJ0iV0E",
        "outputId": "f4c2bea5-c806-4efd-8dae-102875b86e9a"
      },
      "execution_count": null,
      "outputs": [
        {
          "output_type": "stream",
          "name": "stdout",
          "text": [
            "True\n"
          ]
        }
      ]
    },
    {
      "cell_type": "code",
      "source": [
        "def sample_word(d):\n",
        "  p0 = np.random.random()\n",
        "  cumalitve = 0\n",
        "\n",
        "  for t, p in d.items():\n",
        "    cumalitve += p\n",
        "    if p0 < cumalitve:\n",
        "      return t\n",
        "  assert(False)"
      ],
      "metadata": {
        "id": "Of6YdeCSiazJ"
      },
      "execution_count": null,
      "outputs": []
    },
    {
      "cell_type": "markdown",
      "source": [
        "To spin our line, we follow the following steps :\n",
        "\n",
        "* Tokenize the line provided\n",
        "* Append the first word in the list of tokens as, we do not have any word preeceding it\n",
        "* After that we are going to run a `while` loop which is going to run till 2nd Last Token\n",
        "  * Inside this while loop we will define 3 tokens : `t0 = tokens[i]` , `t1 = tokens[i+1]` and `t2 = tokens[i+2]`\n",
        "\n",
        "  * Then we are going to define a `key` which is going to be a `tuple` of the form `key = (t0, t2)` as we are going to use this key to predict the middle word\n",
        "\n",
        "  * Using this key, we will **access** the **probabilties**. Now if there exist more than 1 options options, we would extract a middle word and append the three words as : `t1 + middle + t2`. Else we will **simply append** `t1`\n",
        "\n",
        "  * Now we need `break condition`  which is if the index is of the 2nd last word, therefore at this moment we append just `tokens[-1]`\n",
        "\n",
        "* The method returns the detokenised line"
      ],
      "metadata": {
        "id": "iyQNPka4lKYc"
      }
    },
    {
      "cell_type": "code",
      "source": [
        "def spin_line(line):\n",
        "  tokens = word_tokenize(line)\n",
        "  i = 0\n",
        "  output = [tokens[0]]\n",
        "  while i < (len(tokens) - 2):\n",
        "    t0 = tokens[i]\n",
        "    t1 = tokens[i+1]\n",
        "    t2 = tokens[i+2]\n",
        "\n",
        "    key = (t0, t2)\n",
        "    p_dist = probs[key]\n",
        "\n",
        "    if len(p_dist) > 1 and np.random.random() < 3:\n",
        "      middle = sample_word(p_dist)\n",
        "      output.append(t1)\n",
        "      output.append(f'< {middle} >')\n",
        "      output.append(t2)\n",
        "\n",
        "      i += 2\n",
        "\n",
        "    else:\n",
        "      output.append(t1)\n",
        "      i += 1\n",
        "\n",
        "  if i == len(tokens) - 2:\n",
        "    output.append(tokens[-1])\n",
        "\n",
        "  return detokenizer.detokenize(output)"
      ],
      "metadata": {
        "id": "_EcQ4H2wjMoD"
      },
      "execution_count": null,
      "outputs": []
    },
    {
      "cell_type": "markdown",
      "source": [
        "In the `spin_document` function :\n",
        "\n",
        "* We take our document and then we split our document as in that we have `\\n\\n` to seperate our model\n",
        "\n",
        "* Then out of the lists of lines, we are going to iterate through individual lines which contains two types of line :\n",
        "\n",
        "  * 'Hello Word'\n",
        "  * ' . '\n",
        "\n",
        "* Now if the line exist, i.e. if the line has content then, we are going to spin that line\n",
        "\n",
        "* Else we are just gonna ignore it\n",
        "\n",
        "* Finally we need to join the line with a `\\n` and then `return '\\n'.join(output)`"
      ],
      "metadata": {
        "id": "aYOvUTBg0BOe"
      }
    },
    {
      "cell_type": "code",
      "source": [
        "def spin_document(doc):\n",
        "  lines = doc.split('\\n')\n",
        "  output = []\n",
        "\n",
        "  for line in lines:\n",
        "    if line:\n",
        "      new_line = spin_line(line)\n",
        "    else:\n",
        "      new_line = line\n",
        "    output.append(new_line)\n",
        "\n",
        "  return \"\\n\".join(output)"
      ],
      "metadata": {
        "id": "IgD2NOvxfUa0"
      },
      "execution_count": null,
      "outputs": []
    },
    {
      "cell_type": "code",
      "source": [
        "np.random.seed(1234)"
      ],
      "metadata": {
        "id": "owvUcOlT1w3-"
      },
      "execution_count": null,
      "outputs": []
    },
    {
      "cell_type": "code",
      "source": [
        "i = np.random.choice(texts.shape[0])\n",
        "doc = texts.iloc[i]\n",
        "new_doc = spin_document(doc)"
      ],
      "metadata": {
        "id": "PQqMjo5D10Oh"
      },
      "execution_count": null,
      "outputs": []
    },
    {
      "cell_type": "code",
      "source": [
        "print(textwrap.fill(new_doc, replace_whitespace=False, fix_sentence_endings=True))"
      ],
      "metadata": {
        "colab": {
          "base_uri": "https://localhost:8080/"
        },
        "id": "al6NoBXO2PHr",
        "outputId": "92cf3b6c-b723-4718-9f98-05ae3752a32c"
      },
      "execution_count": null,
      "outputs": [
        {
          "output_type": "stream",
          "name": "stdout",
          "text": [
            "Bombardier chief to leave <discuss> company\n",
            "\n",
            "Shares in train <October>\n",
            "and plane-making <drink> giant Bombardier <Bombardier> have fallen\n",
            "<continued> to a 10-year <five-year> low following <following> the\n",
            "departure <meeting> of its <Japan> chief executive and two members\n",
            "<thirds> of the <the> board.\n",
            "\n",
            "Paul Tellier <Sheard>, who <which> was\n",
            "also Bombardier's president <prediction>, left <\"> the company amid\n",
            "<has> an ongoing <ongoing> restructuring . Laurent Beaudoin, part\n",
            "<part> of the <his> family that controls <unless> the Montreal-based\n",
            "<little-known> firm, will take <begin> on the role <order> of CEO\n",
            "<just> under a newly created management structure <fee>. Analysts\n",
            "<Traders> said the resignations seem to have stemmed <moved> from a\n",
            "boardroom <tax> dispute . Under <\"> Mr Tellier <Schroeder>'s tenure\n",
            "<loss> at the company <prosecutor>, which <also> began in January\n",
            "<November> 2003, plans <starts> to cut <strengthen> the worldwide\n",
            "workforce of 75,000 <redundancy> by almost <allowing> a third <stake>\n",
            "by 2006 were announced <announced>. The firm <Commission>'s snowmobile\n",
            "<construction> division and defence <ground> services unit were also\n",
            "sold <fell> and Bombardier started the development <House> of a\n",
            "<190,000> new aircraft seating 110 to 135 passengers.\n",
            "\n",
            "Mr Tellier\n",
            "<Sullivan> had indicated <announced> he wanted <lied> to stay <look>\n",
            "at the world <world>'s top train <car> maker and third largest\n",
            "manufacturer <manufacturer> of civil <civil> aircraft until the\n",
            "restructuring <arrest> was complete <slowing>. But Bombardier <he> has\n",
            "been <been> faced with a declining <declining> share price <prices>\n",
            "and profits <clients>. Earlier <Earlier> this month <is> the firm\n",
            "<firm> said it earned <owes> $10m <11.5bn> (£19.2m <£374m>) in <-> the\n",
            "third <fourth> quarter, down <down> from a profit <period> of $133m\n",
            "<133m> a year <year> ago . \"I <They> understand the board <target>'s\n",
            "concern <view> that I <Yugansk> would not <not> be there <enough> for\n",
            "the <a> long-term and the need <payments> to develop <India> and\n",
            "execute strategies, and <said> the need <year> to reshape <ask> the\n",
            "management <career> structure at this <a> time, <,>\" Mr Tellier <Bush>\n",
            "said in <in> a statement <tax> on Monday <Wednesday>. Bombardier <She>\n",
            "said restructuring <its> plans drawn up by Mr Tellier <Yushchenko>'s\n",
            "would continue <point> to be implemented <lost>. Shares <Shares> in\n",
            "Bombardier lost 65 Canadian cents or 25 <6>% on <on> the news\n",
            "<tragedy> to 1.90 <2.20> Canadian dollars before rallying <rallying>\n",
            "to 2.20 <2.20> Canadian dollars <dollars>.\n"
          ]
        }
      ]
    }
  ]
}